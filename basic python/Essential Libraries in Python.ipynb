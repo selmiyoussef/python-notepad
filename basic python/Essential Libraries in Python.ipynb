{
 "cells": [
  {
   "cell_type": "markdown",
   "metadata": {},
   "source": [
    "# Essential Libraries in Python\n",
    "\n",
    "- **datetime**\n",
    "- **time**\n",
    "- **os, os.path, shutil**: Miscellaneous operating system interfaces; file manipulation\n",
    "- **commands**: Execute OS commands, like Shell; Running External Processes\n",
    "- **Catch Exceptions**: manage the errors\n",
    "- **HTTP -- urllib and urlparse**\n",
    "- **hashlib**: Secure hashes and message digests"
   ]
  },
  {
   "cell_type": "markdown",
   "metadata": {},
   "source": [
    "## datetime"
   ]
  },
  {
   "cell_type": "code",
   "execution_count": 1,
   "metadata": {
    "collapsed": false
   },
   "outputs": [
    {
     "name": "stdout",
     "output_type": "stream",
     "text": [
      "2017-04-14 18:23:22.800326\n"
     ]
    }
   ],
   "source": [
    "import datetime\n",
    "\n",
    "var_now = datetime.datetime.now()\n",
    "print var_now"
   ]
  },
  {
   "cell_type": "code",
   "execution_count": 2,
   "metadata": {
    "collapsed": false
   },
   "outputs": [
    {
     "name": "stdout",
     "output_type": "stream",
     "text": [
      "Fri Apr 14 18:23:22 2017\n"
     ]
    }
   ],
   "source": [
    "print datetime.datetime.ctime(var_now)"
   ]
  },
  {
   "cell_type": "code",
   "execution_count": 3,
   "metadata": {
    "collapsed": false
   },
   "outputs": [
    {
     "name": "stdout",
     "output_type": "stream",
     "text": [
      "18:23:22.800326\n"
     ]
    }
   ],
   "source": [
    "print datetime.datetime.time(var_now)"
   ]
  },
  {
   "cell_type": "code",
   "execution_count": 4,
   "metadata": {
    "collapsed": false
   },
   "outputs": [
    {
     "name": "stdout",
     "output_type": "stream",
     "text": [
      "2017-04-14\n",
      "4\n"
     ]
    }
   ],
   "source": [
    "print datetime.datetime.date(var_now)\n",
    "print datetime.datetime.weekday(var_now)"
   ]
  },
  {
   "cell_type": "markdown",
   "metadata": {},
   "source": [
    "\"Add\" or \"minus\" from the timestamp"
   ]
  },
  {
   "cell_type": "code",
   "execution_count": 5,
   "metadata": {
    "collapsed": false
   },
   "outputs": [
    {
     "name": "stdout",
     "output_type": "stream",
     "text": [
      "2017-04-14 18:23:22.833592\n",
      "2017-04-15 02:23:22.833592\n"
     ]
    }
   ],
   "source": [
    "t1 = datetime.datetime.now()\n",
    "t2 = t1 + datetime.timedelta(hours=8)\n",
    "\n",
    "print t1\n",
    "print t2"
   ]
  },
  {
   "cell_type": "markdown",
   "metadata": {},
   "source": [
    "Inside `datetime.timedelta`, other than `hours`, we can also use other time units, like `yearts` or `seconds`, etc."
   ]
  },
  {
   "cell_type": "markdown",
   "metadata": {},
   "source": [
    "## time"
   ]
  },
  {
   "cell_type": "code",
   "execution_count": 6,
   "metadata": {
    "collapsed": false
   },
   "outputs": [
    {
     "name": "stdout",
     "output_type": "stream",
     "text": [
      "('CST', 'CST')\n"
     ]
    }
   ],
   "source": [
    "import time\n",
    "print time.tzname  # timezone name"
   ]
  },
  {
   "cell_type": "code",
   "execution_count": 7,
   "metadata": {
    "collapsed": false
   },
   "outputs": [
    {
     "name": "stdout",
     "output_type": "stream",
     "text": [
      "time.struct_time(tm_year=2017, tm_mon=4, tm_mday=14, tm_hour=18, tm_min=23, tm_sec=22, tm_wday=4, tm_yday=104, tm_isdst=0)\n",
      "104\n",
      "14\n",
      "4\n",
      "2017\n",
      "18\n"
     ]
    }
   ],
   "source": [
    "t = time.localtime()\n",
    "\n",
    "print t\n",
    "print t.tm_yday\n",
    "print t.tm_mday\n",
    "print t.tm_wday\n",
    "print t.tm_year\n",
    "print t.tm_hour"
   ]
  },
  {
   "cell_type": "code",
   "execution_count": 8,
   "metadata": {
    "collapsed": false
   },
   "outputs": [
    {
     "name": "stdout",
     "output_type": "stream",
     "text": [
      "time.struct_time(tm_year=2017, tm_mon=4, tm_mday=14, tm_hour=10, tm_min=23, tm_sec=22, tm_wday=4, tm_yday=104, tm_isdst=0)\n"
     ]
    }
   ],
   "source": [
    "# to time ini +0 timezone\n",
    "print time.gmtime()"
   ]
  },
  {
   "cell_type": "markdown",
   "metadata": {},
   "source": [
    "## os, os.path, shutil"
   ]
  },
  {
   "cell_type": "code",
   "execution_count": 9,
   "metadata": {
    "collapsed": false
   },
   "outputs": [
    {
     "name": "stdout",
     "output_type": "stream",
     "text": [
      "/Users/XD/python/python-notepad/basic python\n",
      "/Users/XD/python/python-notepad/basic python\n",
      "/Users/XD/python\n",
      "XD\n"
     ]
    }
   ],
   "source": [
    "import os\n",
    "\n",
    "# Get the current working directory\n",
    "print os.getcwd()\n",
    "print os.getcwdu()\n",
    "\n",
    "# Change working directory\n",
    "os.chdir('/Users/XD/python/')\n",
    "print os.getcwd()\n",
    "\n",
    "# Get the ID of the logged user\n",
    "print os.getlogin()"
   ]
  },
  {
   "cell_type": "code",
   "execution_count": 10,
   "metadata": {
    "collapsed": false
   },
   "outputs": [
    {
     "name": "stdout",
     "output_type": "stream",
     "text": [
      "['.dbfseventsd', '.DocumentRevisions-V100', '.DS_Store', '.file', '.fseventsd', '.PKInstallSandboxManager', '.PKInstallSandboxManager-SystemSoftware', '.Spotlight-V100', '.Trashes', '.vol', 'Applications', 'bin', 'cores', 'dev', 'etc', 'home', 'installer.failurerequests', 'Library', 'net', 'Network', 'private', 'sbin', 'System', 'tmp', 'Users', 'usr', 'var', 'Volumes']\n"
     ]
    }
   ],
   "source": [
    "# List the files and folders in one directory\n",
    "print os.listdir(\"/\")"
   ]
  },
  {
   "cell_type": "code",
   "execution_count": 11,
   "metadata": {
    "collapsed": false
   },
   "outputs": [
    {
     "name": "stdout",
     "output_type": "stream",
     "text": [
      "/home/a.py\n",
      "/home/a.py\n"
     ]
    }
   ],
   "source": [
    "# given a filename use this to put the dir and filename together to make a path properly. \n",
    "# One advantage is that we don't need explicity decide if we should use \"\\\" or \"/\" (in different OS)\n",
    "print os.path.join(\"/home/\", \"a.py\")\n",
    "print os.path.join(\"/home\", \"a.py\")"
   ]
  },
  {
   "cell_type": "code",
   "execution_count": 12,
   "metadata": {
    "collapsed": false
   },
   "outputs": [
    {
     "data": {
      "text/plain": [
       "'/Users/XD/python/test'"
      ]
     },
     "execution_count": 12,
     "metadata": {},
     "output_type": "execute_result"
    }
   ],
   "source": [
    "# given a path in the current work directory, return an absolute form, e.g. /home/nick/foo/bar.html\n",
    "os.path.abspath(\"test\")"
   ]
  },
  {
   "cell_type": "code",
   "execution_count": 13,
   "metadata": {
    "collapsed": false
   },
   "outputs": [
    {
     "name": "stdout",
     "output_type": "stream",
     "text": [
      "a/b\n",
      "c.py\n"
     ]
    }
   ],
   "source": [
    "fake_path = \"a/b/c.py\"\n",
    "\n",
    "# given dir/foo/bar.html, return the dirname \"dir/foo\"\n",
    "print os.path.dirname(fake_path)\n",
    "\n",
    "# given dir/foo/bar.html, return the basename \"bar.html\"\n",
    "print os.path.basename(fake_path)"
   ]
  },
  {
   "cell_type": "code",
   "execution_count": 14,
   "metadata": {
    "collapsed": false
   },
   "outputs": [
    {
     "name": "stdout",
     "output_type": "stream",
     "text": [
      "False\n",
      "True\n"
     ]
    }
   ],
   "source": [
    "# Check if one path exists\n",
    "print os.path.exists(fake_path)\n",
    "\n",
    "print os.path.exists(os.getcwd())"
   ]
  },
  {
   "cell_type": "code",
   "execution_count": 15,
   "metadata": {
    "collapsed": false
   },
   "outputs": [
    {
     "name": "stdout",
     "output_type": "stream",
     "text": [
      "10\n",
      "11\n",
      "10\n"
     ]
    }
   ],
   "source": [
    "# Create a folder & Delete a folder\n",
    "print len(os.listdir(os.getcwd()))\n",
    "os.mkdir(\"test\")\n",
    "print len(os.listdir(os.getcwd()))\n",
    "os.rmdir(\"test\")\n",
    "print len(os.listdir(os.getcwd()))"
   ]
  },
  {
   "cell_type": "code",
   "execution_count": 16,
   "metadata": {
    "collapsed": false
   },
   "outputs": [],
   "source": [
    "# copy a file (dest path directories should exist)\n",
    "import shutil\n",
    "# shutil.copy(\"Introduction to numpy.ipynb\", \"/Users/XD/Desktop/\")"
   ]
  },
  {
   "cell_type": "markdown",
   "metadata": {},
   "source": [
    "## commands"
   ]
  },
  {
   "cell_type": "markdown",
   "metadata": {},
   "source": [
    "**`commands.getstatusoutput(cmd)`** -- runs the command, waits for it to exit, and returns its status int and output text as a tuple. The command is run with its standard output and standard error combined into the one output text. The status will be non-zero if the command failed. Since the standard-err of the command is captured, if it fails, we need to print some indication of what happened.\n",
    "\n",
    "There is a **`commands.getstatus()`** but it does something else, so don't use it -- dumbest bit of method naming ever!"
   ]
  },
  {
   "cell_type": "code",
   "execution_count": 17,
   "metadata": {
    "collapsed": false
   },
   "outputs": [
    {
     "data": {
      "text/plain": [
       "(0,\n",
       " 'GoogleAnalytics\\nKeyboardMonitor\\nSQLite-Browser\\nStockChina\\nTTS_MS\\nTkinterExamples\\ncoDENG\\npython-notepad')"
      ]
     },
     "execution_count": 17,
     "metadata": {},
     "output_type": "execute_result"
    }
   ],
   "source": [
    "import commands\n",
    "\n",
    "commands.getstatusoutput(\"ls\")"
   ]
  },
  {
   "cell_type": "markdown",
   "metadata": {},
   "source": [
    "**`commands.getoutput(cmd)`** -- the same as `commands.getstatusoutput`, but without the status int."
   ]
  },
  {
   "cell_type": "code",
   "execution_count": 18,
   "metadata": {
    "collapsed": false
   },
   "outputs": [
    {
     "data": {
      "text/plain": [
       "'GoogleAnalytics\\nKeyboardMonitor\\nSQLite-Browser\\nStockChina\\nTTS_MS\\nTkinterExamples\\ncoDENG\\npython-notepad'"
      ]
     },
     "execution_count": 18,
     "metadata": {},
     "output_type": "execute_result"
    }
   ],
   "source": [
    "commands.getoutput(\"ls\")"
   ]
  },
  {
   "cell_type": "markdown",
   "metadata": {},
   "source": [
    "There is also a simple **`os.system(cmd)`** which runs the command and dumps its output onto your output and returns its error code. This works if you want to run the command but do not need to capture its output into your python data structures."
   ]
  },
  {
   "cell_type": "code",
   "execution_count": 19,
   "metadata": {
    "collapsed": false
   },
   "outputs": [
    {
     "name": "stdout",
     "output_type": "stream",
     "text": [
      "0\n"
     ]
    }
   ],
   "source": [
    "a = os.system(\"ls\")\n",
    "print a"
   ]
  },
  {
   "cell_type": "markdown",
   "metadata": {},
   "source": [
    "If you want more control over the running of the sub-process, see the \"**popen2**\" module (http://docs.python.org/lib/module-popen2.html)"
   ]
  },
  {
   "cell_type": "markdown",
   "metadata": {},
   "source": [
    "## Catch Exceptions"
   ]
  },
  {
   "cell_type": "markdown",
   "metadata": {},
   "source": [
    "An *exception* represents a **run-time error** that halts the normal execution at a particular line and transfers control to error handling code. Here only the most basic uses of exceptions is introduced. For example a run-time error might be that a variable used in the program does not have a value (ValueError .. you've probably seen that one a few times), or a file open operation error because that does not exist (IOError)\n",
    "\n",
    "Without any error handling code (as we have done thus far), a run-time exception just halts the program with an error message. That's a good default behavior, and you've seen it many times. You can add a \"try/except\" structure to your code to handle exceptions, like this:"
   ]
  },
  {
   "cell_type": "code",
   "execution_count": 20,
   "metadata": {
    "collapsed": false
   },
   "outputs": [
    {
     "name": "stderr",
     "output_type": "stream",
     "text": [
      "problem reading:fasfasfjk.py"
     ]
    }
   ],
   "source": [
    "import sys\n",
    "\n",
    "filename = \"fasfasfjk.py\"\n",
    "try:\n",
    "    ## Either of these two lines could throw an IOError, say\n",
    "    ## if the file does not exist or the read() encounters a low level error.\n",
    "    f = open(filename, 'rU')\n",
    "    text = f.read()\n",
    "    f.close()\n",
    "except IOError:\n",
    "    ## Control jumps directly to here if any of the above lines throws IOError.\n",
    "    sys.stderr.write('problem reading:' + filename)\n",
    "    ## In any case, the code then continues with the line after the try/except"
   ]
  },
  {
   "cell_type": "markdown",
   "metadata": {},
   "source": [
    "The **try:** section includes the code which might throw an exception. The **except:** section holds the code to run if there is an exception. If there is no exception, the **except:** section is skipped (that is, that code is for error handling only, not the \"normal\" case for the code). You can get a pointer to the exception object itself with syntax \"except IOError, e: .. (e points to the exception object)\".\n",
    "\n",
    "**One essential advantage of using such proper error catch is  the program will not be stopped by error. The program can still go on if we want it to. But if we want to the program to stop (in proper way), we can use `sys.exit(\"Error message\")`**\n",
    "\n",
    "```python\n",
    "import sys\n",
    "def test():\n",
    "    try:\n",
    "        file = open(\"fadfda.py\", \"r\")\n",
    "    except IOError:\n",
    "        sys.exit(\"Error message\")\n",
    "\n",
    "test()\n",
    "```\n",
    "\n",
    "(the code can be stopped properly and return exit code 1)"
   ]
  },
  {
   "cell_type": "markdown",
   "metadata": {},
   "source": [
    "More info can be found at https://docs.python.org/2/tutorial/errors.html"
   ]
  },
  {
   "cell_type": "markdown",
   "metadata": {},
   "source": [
    "## HTTP -- urllib"
   ]
  },
  {
   "cell_type": "markdown",
   "metadata": {},
   "source": [
    "The module ***urllib*** provides url fetching -- making a url look like a file you can read form. "
   ]
  },
  {
   "cell_type": "code",
   "execution_count": 21,
   "metadata": {
    "collapsed": false
   },
   "outputs": [
    {
     "data": {
      "text/plain": [
       "instance"
      ]
     },
     "execution_count": 21,
     "metadata": {},
     "output_type": "execute_result"
    }
   ],
   "source": [
    "import urllib\n",
    "#  read the URL and returns a file like object for that url\n",
    "ufile = urllib.urlopen(\"http://me.seekingQED.com\")\n",
    "type(ufile)"
   ]
  },
  {
   "cell_type": "code",
   "execution_count": 22,
   "metadata": {
    "collapsed": false
   },
   "outputs": [
    {
     "name": "stdout",
     "output_type": "stream",
     "text": [
      "<type 'str'>\n",
      "\n",
      "<!DOCTYPE html>\n",
      "<html class=\"full\" lang=\"en\">\n",
      "<!-- Make sure the <html> tag is set to the .full CSS class. Change the background image in the full.css file. -->\n",
      "<head>\n",
      "    <meta charset=\"utf-8\">\n",
      "    <meta http-equiv=\"X-UA-Compatible\" content=\"IE=edge\">\n",
      "    <meta name=\"viewport\" content=\"width=device-width, initial-scale=1\">\n",
      "    <link rel=\"shortcut icon\" href=\"/image/shortcut_icon.ico\" />\n",
      "\n",
      "    <title>DENG, Xiaodong</title>\n",
      "\n",
      "    <link href=\"css/bootstrap.min.css\" rel=\"stylesheet\">\t\t<!-- Bootstrap Core CSS -->\n",
      "    <link href=\"css/cover.css\" rel=\"stylesheet\">    \t\t<!-- Custom CSS -->\n",
      "    <link href=\"//maxcdn.bootstrapcdn.com/font-awesome/4.2.0/css/font-awesome.min.css\" rel=\"stylesheet\"> <!-- FontAwesome -->\n",
      "\n",
      "\n",
      "\n",
      "\n",
      "</head>\n",
      "\n",
      "<body>\n",
      "    <nav class=\"navbar navbar-inverse navbar-fixed-bottom\" role=\"navigation\"> <!-- Navigation -->\n",
      "        <div class=\"container\">\n",
      "            <div class=\"navbar-header\">           <!-- Brand and toggle get grouped for better mobile display -->\n",
      "                <button type=\"button\" class=\"navbar-toggle\" data-toggle=\"collapse\" data-target=\"#bs-example-navbar-collapse-1\">\n",
      "                    <span class=\"sr-only\">Toggle navigation</span>\n",
      "                    <span class=\"icon-bar\"></span>\n",
      "                    <span class=\"icon-bar\"></span>\n",
      "                    <span class=\"icon-bar\"></span>\n",
      "                </button>\n",
      "                <a class=\"navbar-brand\" href=\"#\"><b>DENG Xiaodong</b></a>\n",
      "            </div>\n",
      "            <div class=\"collapse navbar-collapse\" id=\"bs-example-navbar-collapse-1\">   <!-- Collect the nav links, forms, and other content for toggling -->\n",
      "                <ul class=\"nav navbar-nav\">\n",
      "                    <li> <a href=\"R.html\">R language</a> </li>\n",
      "                    <li> <a href=\"python.html\">Python</a> </li>\n",
      "                    <li> <a href=\"other_collection.html\">More</a> </li>\n",
      "                    <li> <a href=\"about_me.html\">About Me</a> </li>\n",
      "                </ul>\n",
      "            </div>                <!-- /.navbar-collapse -->\n",
      "        </div>                        <!-- /.container -->\n",
      "    </nav>\n",
      "\n",
      "\n",
      "\n",
      "\n",
      "\n",
      "    <div class=\"container\">\t\t\t\t\t\t\t<!-- Page Content -->\n",
      "        <div class=\"row\">\n",
      "            <div class=\"col-md-4 col-sm-12\">\n",
      "\n",
      "              <h3>Welcome to Xiaodong's Page</h3>\n",
      "\n",
      "              <p>\n",
      "              I like intuitive ideas, like Parallel Computing and Random Forest. And holding the same attitude toward my life.\n",
      "              </p>\n",
      "              \n",
      "              \n",
      "              <p>Other than data science and programming, I'm into running and many other interesting things.</p> \n",
      "\n",
      "              <a href=\"https://github.com/XD-DENG\"><i class=\"fa fa-github fa-2x\"></i></a> \n",
      "              <a href=\"https://www.linkedin.com/in/xiaodongdeng\"><i class=\"fa fa-linkedin-square fa-2x\"></i></a></p>\n",
      "\n",
      "            </div>\n",
      "        </div> \t\t\t\t\t\t\t\t        <!-- /.row -->\n",
      "    </div>\t\t\t\t\t\t\t\t\t<!-- /.container -->\n",
      "      <script src=\"js/jquery-1.11.0.js\"></script>        <!-- jQuery Version 1.11.0 -->\n",
      "    <script src=\"js/bootstrap.min.js\"></script>  \n",
      "\n",
      "</body>\n",
      "\n",
      "\n",
      "<script>\n",
      "  (function(i,s,o,g,r,a,m){i['GoogleAnalyticsObject']=r;i[r]=i[r]||function(){\n",
      "  (i[r].q=i[r].q||[]).push(arguments)},i[r].l=1*new Date();a=s.createElement(o),\n",
      "  m=s.getElementsByTagName(o)[0];a.async=1;a.src=g;m.parentNode.insertBefore(a,m)\n",
      "  })(window,document,'script','//www.google-analytics.com/analytics.js','ga');\n",
      "\n",
      "  ga('create', 'UA-63780621-1', 'auto');\n",
      "  ga('send', 'pageview');\n",
      "\n",
      "</script>\n",
      "\n",
      "</html>\n",
      "\n"
     ]
    }
   ],
   "source": [
    "contents = ufile.read()\n",
    "print type(contents)\n",
    "print contents"
   ]
  },
  {
   "cell_type": "code",
   "execution_count": 23,
   "metadata": {
    "collapsed": false
   },
   "outputs": [
    {
     "name": "stdout",
     "output_type": "stream",
     "text": [
      "Server: GitHub.com\r\n",
      "Content-Type: text/html; charset=utf-8\r\n",
      "Last-Modified: Thu, 06 Apr 2017 02:03:03 GMT\r\n",
      "Access-Control-Allow-Origin: *\r\n",
      "Expires: Fri, 14 Apr 2017 10:33:24 GMT\r\n",
      "Cache-Control: max-age=600\r\n",
      "X-GitHub-Request-Id: 40E8:0231:5EA1221:7CA1689:58F0A31B\r\n",
      "Content-Length: 3441\r\n",
      "Accept-Ranges: bytes\r\n",
      "Date: Fri, 14 Apr 2017 10:23:24 GMT\r\n",
      "Via: 1.1 varnish\r\n",
      "Age: 0\r\n",
      "Connection: close\r\n",
      "X-Served-By: cache-sin18032-SIN\r\n",
      "X-Cache: MISS\r\n",
      "X-Cache-Hits: 0\r\n",
      "X-Timer: S1492165404.067423,VS0,VE244\r\n",
      "Vary: Accept-Encoding\r\n",
      "X-Fastly-Request-ID: d0cfbda8d1d30080fdcb982661840bd6470fdba5\r\n",
      "\n"
     ]
    }
   ],
   "source": [
    "# the meta info for that request\n",
    "info = ufile.info()\n",
    "print info"
   ]
  },
  {
   "cell_type": "code",
   "execution_count": 24,
   "metadata": {
    "collapsed": false
   },
   "outputs": [
    {
     "name": "stdout",
     "output_type": "stream",
     "text": [
      "text/html\n"
     ]
    }
   ],
   "source": [
    "# Get the mime time, e.g. 'text/html'\n",
    "print info.gettype()"
   ]
  },
  {
   "cell_type": "code",
   "execution_count": 25,
   "metadata": {
    "collapsed": false
   },
   "outputs": [
    {
     "name": "stdout",
     "output_type": "stream",
     "text": [
      "http://me.seekingQED.com\n"
     ]
    }
   ],
   "source": [
    "# Get the base url from the object generated\n",
    "baseurl = ufile.geturl()\n",
    "print baseurl"
   ]
  },
  {
   "cell_type": "code",
   "execution_count": 26,
   "metadata": {
    "collapsed": true
   },
   "outputs": [],
   "source": [
    "# urllib.urlretrieve(url, filename) -- downloads the url data to the given file path"
   ]
  },
  {
   "cell_type": "markdown",
   "metadata": {},
   "source": [
    "Codes to read URL and avoid potential error:"
   ]
  },
  {
   "cell_type": "code",
   "execution_count": 27,
   "metadata": {
    "collapsed": true
   },
   "outputs": [],
   "source": [
    "## Version that uses try/except to print an error message if the urlopen() fails.\n",
    "\n",
    "# def wget(url):\n",
    "#     try:\n",
    "#         ufile = urllib.urlopen(url)\n",
    "#         if ufile.info().gettype() == 'text/html':\n",
    "#             print ufile.read()\n",
    "#     except IOError:\n",
    "#         print 'problem reading url:', url"
   ]
  },
  {
   "cell_type": "markdown",
   "metadata": {},
   "source": [
    "## **hashlib**: Secure hashes and message digests"
   ]
  },
  {
   "cell_type": "code",
   "execution_count": 28,
   "metadata": {
    "collapsed": false
   },
   "outputs": [
    {
     "name": "stdout",
     "output_type": "stream",
     "text": [
      "set(['SHA256', 'SHA512', 'dsaWithSHA', 'mdc2', 'SHA224', 'MD4', 'sha256', 'sha512', 'ripemd160', 'whirlpool', 'SHA1', 'MDC2', 'SHA', 'SHA384', 'ecdsa-with-SHA1', 'md4', 'md5', 'sha1', 'DSA-SHA', 'sha224', 'dsaEncryption', 'DSA', 'RIPEMD160', 'sha', 'MD5', 'sha384'])\n"
     ]
    }
   ],
   "source": [
    "import hashlib\n",
    "\n",
    "# print all the available algorithms\n",
    "print hashlib.algorithms_available"
   ]
  },
  {
   "cell_type": "code",
   "execution_count": 29,
   "metadata": {
    "collapsed": false
   },
   "outputs": [
    {
     "name": "stdout",
     "output_type": "stream",
     "text": [
      "54b0c58c7ce9f2a8b551351102ee0938\n",
      "2e99758548972a8e8822ad47fa1017ff72f06f3ff6a016851f45c398732bc50c\n"
     ]
    }
   ],
   "source": [
    "string = \"this is a test\"\n",
    "print hashlib.md5(string).hexdigest()\n",
    "print hashlib.sha256(string).hexdigest()"
   ]
  }
 ],
 "metadata": {
  "kernelspec": {
   "display_name": "Python 2",
   "language": "python",
   "name": "python2"
  },
  "language_info": {
   "codemirror_mode": {
    "name": "ipython",
    "version": 2
   },
   "file_extension": ".py",
   "mimetype": "text/x-python",
   "name": "python",
   "nbconvert_exporter": "python",
   "pygments_lexer": "ipython2",
   "version": "2.7.13"
  }
 },
 "nbformat": 4,
 "nbformat_minor": 0
}
